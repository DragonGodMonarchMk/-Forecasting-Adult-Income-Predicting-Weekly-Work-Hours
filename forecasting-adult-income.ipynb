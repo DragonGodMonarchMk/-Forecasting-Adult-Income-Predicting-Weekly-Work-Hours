{
 "cells": [
  {
   "cell_type": "markdown",
   "id": "acdec5e4",
   "metadata": {
    "papermill": {
     "duration": 0.005683,
     "end_time": "2025-07-20T15:57:18.156380",
     "exception": false,
     "start_time": "2025-07-20T15:57:18.150697",
     "status": "completed"
    },
    "tags": []
   },
   "source": [
    "# 📊 Introduction: Forecasting Adult Income\n",
    "Understanding and predicting adult income is a critical task in socio-economic analysis, workforce planning, and policy design. Income level often reflects an individual's education, work experience, demographic background, and other personal attributes. In this project, we focus on forecasting whether a person earns more than $50,000 per year"
   ]
  },
  {
   "cell_type": "code",
   "execution_count": 2,
   "id": "4e9de275",
   "metadata": {
    "execution": {
     "iopub.execute_input": "2025-07-20T15:57:18.167459Z",
     "iopub.status.busy": "2025-07-20T15:57:18.167150Z",
     "iopub.status.idle": "2025-07-20T15:57:37.997288Z",
     "shell.execute_reply": "2025-07-20T15:57:37.996459Z"
    },
    "papermill": {
     "duration": 19.837615,
     "end_time": "2025-07-20T15:57:37.998994",
     "exception": false,
     "start_time": "2025-07-20T15:57:18.161379",
     "status": "completed"
    },
    "tags": []
   },
   "outputs": [],
   "source": [
    "import kagglehub\n",
    "\n",
    "import pandas as pd\n",
    "import numpy as np\n",
    "\n",
    "import matplotlib.pyplot as plt\n",
    "import seaborn as sns\n",
    "\n",
    "from sklearn.preprocessing import LabelEncoder\n",
    "from sklearn.model_selection import train_test_split\n",
    "from sklearn.linear_model import LogisticRegression\n",
    "from sklearn.tree import DecisionTreeClassifier\n",
    "from sklearn.ensemble import RandomForestClassifier\n",
    "from sklearn.metrics import accuracy_score, classification_report\n",
    "\n",
    "from sklearn.preprocessing import StandardScaler\n",
    "\n",
    "import tensorflow as tf\n",
    "from tensorflow import keras\n",
    "from tensorflow.keras import layers\n",
    "from tensorflow.keras.layers import Input, Dense\n",
    "\n",
    "\n",
    "import xgboost as xgb"
   ]
  },
  {
   "cell_type": "markdown",
   "id": "2996bfb4",
   "metadata": {
    "papermill": {
     "duration": 0.004555,
     "end_time": "2025-07-20T15:57:38.008629",
     "exception": false,
     "start_time": "2025-07-20T15:57:38.004074",
     "status": "completed"
    },
    "tags": []
   },
   "source": [
    "# 📥 Importing data"
   ]
  },
  {
   "cell_type": "code",
   "execution_count": 3,
   "id": "891ea1e4",
   "metadata": {
    "execution": {
     "iopub.execute_input": "2025-07-20T15:57:38.019524Z",
     "iopub.status.busy": "2025-07-20T15:57:38.018912Z",
     "iopub.status.idle": "2025-07-20T15:57:38.265930Z",
     "shell.execute_reply": "2025-07-20T15:57:38.265051Z"
    },
    "papermill": {
     "duration": 0.254111,
     "end_time": "2025-07-20T15:57:38.267353",
     "exception": false,
     "start_time": "2025-07-20T15:57:38.013242",
     "status": "completed"
    },
    "tags": []
   },
   "outputs": [
    {
     "data": {
      "text/html": [
       "<div>\n",
       "<style scoped>\n",
       "    .dataframe tbody tr th:only-of-type {\n",
       "        vertical-align: middle;\n",
       "    }\n",
       "\n",
       "    .dataframe tbody tr th {\n",
       "        vertical-align: top;\n",
       "    }\n",
       "\n",
       "    .dataframe thead th {\n",
       "        text-align: right;\n",
       "    }\n",
       "</style>\n",
       "<table border=\"1\" class=\"dataframe\">\n",
       "  <thead>\n",
       "    <tr style=\"text-align: right;\">\n",
       "      <th></th>\n",
       "      <th>age</th>\n",
       "      <th>workclass</th>\n",
       "      <th>fnlwgt</th>\n",
       "      <th>education</th>\n",
       "      <th>education-num</th>\n",
       "      <th>marital-status</th>\n",
       "      <th>occupation</th>\n",
       "      <th>relationship</th>\n",
       "      <th>race</th>\n",
       "      <th>gender</th>\n",
       "      <th>capital-gain</th>\n",
       "      <th>capital-loss</th>\n",
       "      <th>hours-per-week</th>\n",
       "      <th>native-country</th>\n",
       "      <th>salary</th>\n",
       "    </tr>\n",
       "  </thead>\n",
       "  <tbody>\n",
       "    <tr>\n",
       "      <th>0</th>\n",
       "      <td>25</td>\n",
       "      <td>Private</td>\n",
       "      <td>226802</td>\n",
       "      <td>11th</td>\n",
       "      <td>7</td>\n",
       "      <td>Never-married</td>\n",
       "      <td>Machine-op-inspct</td>\n",
       "      <td>Own-child</td>\n",
       "      <td>Black</td>\n",
       "      <td>Male</td>\n",
       "      <td>0</td>\n",
       "      <td>0</td>\n",
       "      <td>40</td>\n",
       "      <td>United-States</td>\n",
       "      <td>&lt;=50K</td>\n",
       "    </tr>\n",
       "    <tr>\n",
       "      <th>1</th>\n",
       "      <td>38</td>\n",
       "      <td>Private</td>\n",
       "      <td>89814</td>\n",
       "      <td>HS-grad</td>\n",
       "      <td>9</td>\n",
       "      <td>Married-civ-spouse</td>\n",
       "      <td>Farming-fishing</td>\n",
       "      <td>Husband</td>\n",
       "      <td>White</td>\n",
       "      <td>Male</td>\n",
       "      <td>0</td>\n",
       "      <td>0</td>\n",
       "      <td>50</td>\n",
       "      <td>United-States</td>\n",
       "      <td>&lt;=50K</td>\n",
       "    </tr>\n",
       "    <tr>\n",
       "      <th>2</th>\n",
       "      <td>28</td>\n",
       "      <td>Local-gov</td>\n",
       "      <td>336951</td>\n",
       "      <td>Assoc-acdm</td>\n",
       "      <td>12</td>\n",
       "      <td>Married-civ-spouse</td>\n",
       "      <td>Protective-serv</td>\n",
       "      <td>Husband</td>\n",
       "      <td>White</td>\n",
       "      <td>Male</td>\n",
       "      <td>0</td>\n",
       "      <td>0</td>\n",
       "      <td>40</td>\n",
       "      <td>United-States</td>\n",
       "      <td>&gt;50K</td>\n",
       "    </tr>\n",
       "    <tr>\n",
       "      <th>3</th>\n",
       "      <td>44</td>\n",
       "      <td>Private</td>\n",
       "      <td>160323</td>\n",
       "      <td>Some-college</td>\n",
       "      <td>10</td>\n",
       "      <td>Married-civ-spouse</td>\n",
       "      <td>Machine-op-inspct</td>\n",
       "      <td>Husband</td>\n",
       "      <td>Black</td>\n",
       "      <td>Male</td>\n",
       "      <td>7688</td>\n",
       "      <td>0</td>\n",
       "      <td>40</td>\n",
       "      <td>United-States</td>\n",
       "      <td>&gt;50K</td>\n",
       "    </tr>\n",
       "    <tr>\n",
       "      <th>4</th>\n",
       "      <td>18</td>\n",
       "      <td>?</td>\n",
       "      <td>103497</td>\n",
       "      <td>Some-college</td>\n",
       "      <td>10</td>\n",
       "      <td>Never-married</td>\n",
       "      <td>?</td>\n",
       "      <td>Own-child</td>\n",
       "      <td>White</td>\n",
       "      <td>Female</td>\n",
       "      <td>0</td>\n",
       "      <td>0</td>\n",
       "      <td>30</td>\n",
       "      <td>United-States</td>\n",
       "      <td>&lt;=50K</td>\n",
       "    </tr>\n",
       "  </tbody>\n",
       "</table>\n",
       "</div>"
      ],
      "text/plain": [
       "   age  workclass  fnlwgt     education  education-num      marital-status  \\\n",
       "0   25    Private  226802          11th              7       Never-married   \n",
       "1   38    Private   89814       HS-grad              9  Married-civ-spouse   \n",
       "2   28  Local-gov  336951    Assoc-acdm             12  Married-civ-spouse   \n",
       "3   44    Private  160323  Some-college             10  Married-civ-spouse   \n",
       "4   18          ?  103497  Some-college             10       Never-married   \n",
       "\n",
       "          occupation relationship   race  gender  capital-gain  capital-loss  \\\n",
       "0  Machine-op-inspct    Own-child  Black    Male             0             0   \n",
       "1    Farming-fishing      Husband  White    Male             0             0   \n",
       "2    Protective-serv      Husband  White    Male             0             0   \n",
       "3  Machine-op-inspct      Husband  Black    Male          7688             0   \n",
       "4                  ?    Own-child  White  Female             0             0   \n",
       "\n",
       "   hours-per-week native-country salary  \n",
       "0              40  United-States  <=50K  \n",
       "1              50  United-States  <=50K  \n",
       "2              40  United-States   >50K  \n",
       "3              40  United-States   >50K  \n",
       "4              30  United-States  <=50K  "
      ]
     },
     "execution_count": 3,
     "metadata": {},
     "output_type": "execute_result"
    }
   ],
   "source": [
    "df = pd.read_csv(r\"C:\\Users\\dell\\Downloads\\adult11.csv\\adult11.csv\")\n",
    "\n",
    "df.head()"
   ]
  },
  {
   "cell_type": "markdown",
   "id": "41d5c2d7",
   "metadata": {
    "papermill": {
     "duration": 0.004992,
     "end_time": "2025-07-20T15:57:38.277752",
     "exception": false,
     "start_time": "2025-07-20T15:57:38.272760",
     "status": "completed"
    },
    "tags": []
   },
   "source": [
    "# 🔍 Clearing and transforming data\n",
    "To ensure meaningful analysis, we begin by removing records with missing values and converting categorical variables into numerical form. These preprocessing steps allow us to prepare the data for effective modeling."
   ]
  },
  {
   "cell_type": "code",
   "execution_count": 4,
   "id": "fbdadc79",
   "metadata": {
    "execution": {
     "iopub.execute_input": "2025-07-20T15:57:38.289855Z",
     "iopub.status.busy": "2025-07-20T15:57:38.289557Z",
     "iopub.status.idle": "2025-07-20T15:57:38.331448Z",
     "shell.execute_reply": "2025-07-20T15:57:38.330330Z"
    },
    "papermill": {
     "duration": 0.05049,
     "end_time": "2025-07-20T15:57:38.333260",
     "exception": false,
     "start_time": "2025-07-20T15:57:38.282770",
     "status": "completed"
    },
    "tags": []
   },
   "outputs": [
    {
     "name": "stdout",
     "output_type": "stream",
     "text": [
      "<class 'pandas.core.frame.DataFrame'>\n",
      "RangeIndex: 48842 entries, 0 to 48841\n",
      "Data columns (total 15 columns):\n",
      " #   Column          Non-Null Count  Dtype \n",
      "---  ------          --------------  ----- \n",
      " 0   age             48842 non-null  int64 \n",
      " 1   workclass       48842 non-null  object\n",
      " 2   fnlwgt          48842 non-null  int64 \n",
      " 3   education       48842 non-null  object\n",
      " 4   education-num   48842 non-null  int64 \n",
      " 5   marital-status  48842 non-null  object\n",
      " 6   occupation      48842 non-null  object\n",
      " 7   relationship    48842 non-null  object\n",
      " 8   race            48842 non-null  object\n",
      " 9   gender          48842 non-null  object\n",
      " 10  capital-gain    48842 non-null  int64 \n",
      " 11  capital-loss    48842 non-null  int64 \n",
      " 12  hours-per-week  48842 non-null  int64 \n",
      " 13  native-country  48842 non-null  object\n",
      " 14  salary          48842 non-null  object\n",
      "dtypes: int64(6), object(9)\n",
      "memory usage: 5.6+ MB\n"
     ]
    }
   ],
   "source": [
    "df.info()"
   ]
  },
  {
   "cell_type": "code",
   "execution_count": 5,
   "id": "7562dfd2",
   "metadata": {
    "execution": {
     "iopub.execute_input": "2025-07-20T15:57:38.345506Z",
     "iopub.status.busy": "2025-07-20T15:57:38.344684Z",
     "iopub.status.idle": "2025-07-20T15:57:38.379539Z",
     "shell.execute_reply": "2025-07-20T15:57:38.378663Z"
    },
    "papermill": {
     "duration": 0.042351,
     "end_time": "2025-07-20T15:57:38.380885",
     "exception": false,
     "start_time": "2025-07-20T15:57:38.338534",
     "status": "completed"
    },
    "tags": []
   },
   "outputs": [
    {
     "data": {
      "text/html": [
       "<div>\n",
       "<style scoped>\n",
       "    .dataframe tbody tr th:only-of-type {\n",
       "        vertical-align: middle;\n",
       "    }\n",
       "\n",
       "    .dataframe tbody tr th {\n",
       "        vertical-align: top;\n",
       "    }\n",
       "\n",
       "    .dataframe thead th {\n",
       "        text-align: right;\n",
       "    }\n",
       "</style>\n",
       "<table border=\"1\" class=\"dataframe\">\n",
       "  <thead>\n",
       "    <tr style=\"text-align: right;\">\n",
       "      <th></th>\n",
       "      <th>age</th>\n",
       "      <th>fnlwgt</th>\n",
       "      <th>education-num</th>\n",
       "      <th>capital-gain</th>\n",
       "      <th>capital-loss</th>\n",
       "      <th>hours-per-week</th>\n",
       "    </tr>\n",
       "  </thead>\n",
       "  <tbody>\n",
       "    <tr>\n",
       "      <th>count</th>\n",
       "      <td>48842.000000</td>\n",
       "      <td>4.884200e+04</td>\n",
       "      <td>48842.000000</td>\n",
       "      <td>48842.000000</td>\n",
       "      <td>48842.000000</td>\n",
       "      <td>48842.000000</td>\n",
       "    </tr>\n",
       "    <tr>\n",
       "      <th>mean</th>\n",
       "      <td>38.643585</td>\n",
       "      <td>1.896641e+05</td>\n",
       "      <td>10.078089</td>\n",
       "      <td>1079.067626</td>\n",
       "      <td>87.502314</td>\n",
       "      <td>40.422382</td>\n",
       "    </tr>\n",
       "    <tr>\n",
       "      <th>std</th>\n",
       "      <td>13.710510</td>\n",
       "      <td>1.056040e+05</td>\n",
       "      <td>2.570973</td>\n",
       "      <td>7452.019058</td>\n",
       "      <td>403.004552</td>\n",
       "      <td>12.391444</td>\n",
       "    </tr>\n",
       "    <tr>\n",
       "      <th>min</th>\n",
       "      <td>17.000000</td>\n",
       "      <td>1.228500e+04</td>\n",
       "      <td>1.000000</td>\n",
       "      <td>0.000000</td>\n",
       "      <td>0.000000</td>\n",
       "      <td>1.000000</td>\n",
       "    </tr>\n",
       "    <tr>\n",
       "      <th>25%</th>\n",
       "      <td>28.000000</td>\n",
       "      <td>1.175505e+05</td>\n",
       "      <td>9.000000</td>\n",
       "      <td>0.000000</td>\n",
       "      <td>0.000000</td>\n",
       "      <td>40.000000</td>\n",
       "    </tr>\n",
       "    <tr>\n",
       "      <th>50%</th>\n",
       "      <td>37.000000</td>\n",
       "      <td>1.781445e+05</td>\n",
       "      <td>10.000000</td>\n",
       "      <td>0.000000</td>\n",
       "      <td>0.000000</td>\n",
       "      <td>40.000000</td>\n",
       "    </tr>\n",
       "    <tr>\n",
       "      <th>75%</th>\n",
       "      <td>48.000000</td>\n",
       "      <td>2.376420e+05</td>\n",
       "      <td>12.000000</td>\n",
       "      <td>0.000000</td>\n",
       "      <td>0.000000</td>\n",
       "      <td>45.000000</td>\n",
       "    </tr>\n",
       "    <tr>\n",
       "      <th>max</th>\n",
       "      <td>90.000000</td>\n",
       "      <td>1.490400e+06</td>\n",
       "      <td>16.000000</td>\n",
       "      <td>99999.000000</td>\n",
       "      <td>4356.000000</td>\n",
       "      <td>99.000000</td>\n",
       "    </tr>\n",
       "  </tbody>\n",
       "</table>\n",
       "</div>"
      ],
      "text/plain": [
       "                age        fnlwgt  education-num  capital-gain  capital-loss  \\\n",
       "count  48842.000000  4.884200e+04   48842.000000  48842.000000  48842.000000   \n",
       "mean      38.643585  1.896641e+05      10.078089   1079.067626     87.502314   \n",
       "std       13.710510  1.056040e+05       2.570973   7452.019058    403.004552   \n",
       "min       17.000000  1.228500e+04       1.000000      0.000000      0.000000   \n",
       "25%       28.000000  1.175505e+05       9.000000      0.000000      0.000000   \n",
       "50%       37.000000  1.781445e+05      10.000000      0.000000      0.000000   \n",
       "75%       48.000000  2.376420e+05      12.000000      0.000000      0.000000   \n",
       "max       90.000000  1.490400e+06      16.000000  99999.000000   4356.000000   \n",
       "\n",
       "       hours-per-week  \n",
       "count    48842.000000  \n",
       "mean        40.422382  \n",
       "std         12.391444  \n",
       "min          1.000000  \n",
       "25%         40.000000  \n",
       "50%         40.000000  \n",
       "75%         45.000000  \n",
       "max         99.000000  "
      ]
     },
     "execution_count": 5,
     "metadata": {},
     "output_type": "execute_result"
    }
   ],
   "source": [
    "df.describe()"
   ]
  },
  {
   "cell_type": "code",
   "execution_count": 6,
   "id": "214f0a93",
   "metadata": {
    "execution": {
     "iopub.execute_input": "2025-07-20T15:57:38.393077Z",
     "iopub.status.busy": "2025-07-20T15:57:38.392508Z",
     "iopub.status.idle": "2025-07-20T15:57:38.453232Z",
     "shell.execute_reply": "2025-07-20T15:57:38.452233Z"
    },
    "papermill": {
     "duration": 0.06833,
     "end_time": "2025-07-20T15:57:38.454669",
     "exception": false,
     "start_time": "2025-07-20T15:57:38.386339",
     "status": "completed"
    },
    "tags": []
   },
   "outputs": [
    {
     "name": "stdout",
     "output_type": "stream",
     "text": [
      "Missing values per column:\n",
      " age                  0\n",
      "workclass         2799\n",
      "fnlwgt               0\n",
      "education            0\n",
      "education-num        0\n",
      "marital-status       0\n",
      "occupation        2809\n",
      "relationship         0\n",
      "race                 0\n",
      "gender               0\n",
      "capital-gain         0\n",
      "capital-loss         0\n",
      "hours-per-week       0\n",
      "native-country     857\n",
      "salary               0\n",
      "dtype: int64\n"
     ]
    }
   ],
   "source": [
    "df.replace(\"?\", np.nan, inplace=True)\n",
    "\n",
    "missing_values = df.isnull().sum()\n",
    "print('Missing values per column:\\n', missing_values)"
   ]
  },
  {
   "cell_type": "code",
   "execution_count": 7,
   "id": "d8f3ad15",
   "metadata": {
    "execution": {
     "iopub.execute_input": "2025-07-20T15:57:38.466654Z",
     "iopub.status.busy": "2025-07-20T15:57:38.466372Z",
     "iopub.status.idle": "2025-07-20T15:57:38.498239Z",
     "shell.execute_reply": "2025-07-20T15:57:38.497350Z"
    },
    "papermill": {
     "duration": 0.039586,
     "end_time": "2025-07-20T15:57:38.499796",
     "exception": false,
     "start_time": "2025-07-20T15:57:38.460210",
     "status": "completed"
    },
    "tags": []
   },
   "outputs": [],
   "source": [
    "df = df.dropna()"
   ]
  },
  {
   "cell_type": "code",
   "execution_count": 8,
   "id": "e4363287",
   "metadata": {
    "execution": {
     "iopub.execute_input": "2025-07-20T15:57:38.512255Z",
     "iopub.status.busy": "2025-07-20T15:57:38.511478Z",
     "iopub.status.idle": "2025-07-20T15:57:38.589598Z",
     "shell.execute_reply": "2025-07-20T15:57:38.588751Z"
    },
    "papermill": {
     "duration": 0.08586,
     "end_time": "2025-07-20T15:57:38.591256",
     "exception": false,
     "start_time": "2025-07-20T15:57:38.505396",
     "status": "completed"
    },
    "tags": []
   },
   "outputs": [
    {
     "data": {
      "text/html": [
       "<div>\n",
       "<style scoped>\n",
       "    .dataframe tbody tr th:only-of-type {\n",
       "        vertical-align: middle;\n",
       "    }\n",
       "\n",
       "    .dataframe tbody tr th {\n",
       "        vertical-align: top;\n",
       "    }\n",
       "\n",
       "    .dataframe thead th {\n",
       "        text-align: right;\n",
       "    }\n",
       "</style>\n",
       "<table border=\"1\" class=\"dataframe\">\n",
       "  <thead>\n",
       "    <tr style=\"text-align: right;\">\n",
       "      <th></th>\n",
       "      <th>age</th>\n",
       "      <th>workclass</th>\n",
       "      <th>fnlwgt</th>\n",
       "      <th>education</th>\n",
       "      <th>education-num</th>\n",
       "      <th>marital-status</th>\n",
       "      <th>occupation</th>\n",
       "      <th>relationship</th>\n",
       "      <th>race</th>\n",
       "      <th>gender</th>\n",
       "      <th>capital-gain</th>\n",
       "      <th>capital-loss</th>\n",
       "      <th>hours-per-week</th>\n",
       "      <th>native-country</th>\n",
       "      <th>salary</th>\n",
       "    </tr>\n",
       "  </thead>\n",
       "  <tbody>\n",
       "    <tr>\n",
       "      <th>0</th>\n",
       "      <td>25</td>\n",
       "      <td>2</td>\n",
       "      <td>226802</td>\n",
       "      <td>11th</td>\n",
       "      <td>7</td>\n",
       "      <td>4</td>\n",
       "      <td>6</td>\n",
       "      <td>3</td>\n",
       "      <td>2</td>\n",
       "      <td>1</td>\n",
       "      <td>0</td>\n",
       "      <td>0</td>\n",
       "      <td>40</td>\n",
       "      <td>38</td>\n",
       "      <td>0</td>\n",
       "    </tr>\n",
       "    <tr>\n",
       "      <th>1</th>\n",
       "      <td>38</td>\n",
       "      <td>2</td>\n",
       "      <td>89814</td>\n",
       "      <td>HS-grad</td>\n",
       "      <td>9</td>\n",
       "      <td>2</td>\n",
       "      <td>4</td>\n",
       "      <td>0</td>\n",
       "      <td>4</td>\n",
       "      <td>1</td>\n",
       "      <td>0</td>\n",
       "      <td>0</td>\n",
       "      <td>50</td>\n",
       "      <td>38</td>\n",
       "      <td>0</td>\n",
       "    </tr>\n",
       "    <tr>\n",
       "      <th>2</th>\n",
       "      <td>28</td>\n",
       "      <td>1</td>\n",
       "      <td>336951</td>\n",
       "      <td>Assoc-acdm</td>\n",
       "      <td>12</td>\n",
       "      <td>2</td>\n",
       "      <td>10</td>\n",
       "      <td>0</td>\n",
       "      <td>4</td>\n",
       "      <td>1</td>\n",
       "      <td>0</td>\n",
       "      <td>0</td>\n",
       "      <td>40</td>\n",
       "      <td>38</td>\n",
       "      <td>1</td>\n",
       "    </tr>\n",
       "    <tr>\n",
       "      <th>3</th>\n",
       "      <td>44</td>\n",
       "      <td>2</td>\n",
       "      <td>160323</td>\n",
       "      <td>Some-college</td>\n",
       "      <td>10</td>\n",
       "      <td>2</td>\n",
       "      <td>6</td>\n",
       "      <td>0</td>\n",
       "      <td>2</td>\n",
       "      <td>1</td>\n",
       "      <td>7688</td>\n",
       "      <td>0</td>\n",
       "      <td>40</td>\n",
       "      <td>38</td>\n",
       "      <td>1</td>\n",
       "    </tr>\n",
       "    <tr>\n",
       "      <th>5</th>\n",
       "      <td>34</td>\n",
       "      <td>2</td>\n",
       "      <td>198693</td>\n",
       "      <td>10th</td>\n",
       "      <td>6</td>\n",
       "      <td>4</td>\n",
       "      <td>7</td>\n",
       "      <td>1</td>\n",
       "      <td>4</td>\n",
       "      <td>1</td>\n",
       "      <td>0</td>\n",
       "      <td>0</td>\n",
       "      <td>30</td>\n",
       "      <td>38</td>\n",
       "      <td>0</td>\n",
       "    </tr>\n",
       "  </tbody>\n",
       "</table>\n",
       "</div>"
      ],
      "text/plain": [
       "   age  workclass  fnlwgt     education  education-num  marital-status  \\\n",
       "0   25          2  226802          11th              7               4   \n",
       "1   38          2   89814       HS-grad              9               2   \n",
       "2   28          1  336951    Assoc-acdm             12               2   \n",
       "3   44          2  160323  Some-college             10               2   \n",
       "5   34          2  198693          10th              6               4   \n",
       "\n",
       "   occupation  relationship  race  gender  capital-gain  capital-loss  \\\n",
       "0           6             3     2       1             0             0   \n",
       "1           4             0     4       1             0             0   \n",
       "2          10             0     4       1             0             0   \n",
       "3           6             0     2       1          7688             0   \n",
       "5           7             1     4       1             0             0   \n",
       "\n",
       "   hours-per-week  native-country  salary  \n",
       "0              40              38       0  \n",
       "1              50              38       0  \n",
       "2              40              38       1  \n",
       "3              40              38       1  \n",
       "5              30              38       0  "
      ]
     },
     "execution_count": 8,
     "metadata": {},
     "output_type": "execute_result"
    }
   ],
   "source": [
    "le = LabelEncoder()\n",
    "df['workclass'] = le.fit_transform(df['workclass'])\n",
    "\n",
    "df['occupation'] = le.fit_transform(df['occupation'])\n",
    "\n",
    "df['marital-status'] = le.fit_transform(df['marital-status'])\n",
    "\n",
    "df['relationship'] = le.fit_transform(df['relationship'])\n",
    "\n",
    "df['race'] = le.fit_transform(df['race'])\n",
    "\n",
    "df['gender'] = le.fit_transform(df['gender'])\n",
    "\n",
    "df['native-country'] = le.fit_transform(df['native-country'])\n",
    "\n",
    "#If salary is below 50k - value is 1, otherwise is 0\n",
    "df['salary'] = le.fit_transform(df['salary']) \n",
    "\n",
    "df.head()"
   ]
  },
  {
   "cell_type": "code",
   "execution_count": 9,
   "id": "f56e9f6e",
   "metadata": {
    "execution": {
     "iopub.execute_input": "2025-07-20T15:57:38.604178Z",
     "iopub.status.busy": "2025-07-20T15:57:38.603435Z",
     "iopub.status.idle": "2025-07-20T15:57:38.660109Z",
     "shell.execute_reply": "2025-07-20T15:57:38.659326Z"
    },
    "papermill": {
     "duration": 0.064612,
     "end_time": "2025-07-20T15:57:38.661640",
     "exception": false,
     "start_time": "2025-07-20T15:57:38.597028",
     "status": "completed"
    },
    "tags": []
   },
   "outputs": [
    {
     "data": {
      "text/html": [
       "<div>\n",
       "<style scoped>\n",
       "    .dataframe tbody tr th:only-of-type {\n",
       "        vertical-align: middle;\n",
       "    }\n",
       "\n",
       "    .dataframe tbody tr th {\n",
       "        vertical-align: top;\n",
       "    }\n",
       "\n",
       "    .dataframe thead th {\n",
       "        text-align: right;\n",
       "    }\n",
       "</style>\n",
       "<table border=\"1\" class=\"dataframe\">\n",
       "  <thead>\n",
       "    <tr style=\"text-align: right;\">\n",
       "      <th></th>\n",
       "      <th>age</th>\n",
       "      <th>workclass</th>\n",
       "      <th>fnlwgt</th>\n",
       "      <th>education-num</th>\n",
       "      <th>marital-status</th>\n",
       "      <th>occupation</th>\n",
       "      <th>relationship</th>\n",
       "      <th>race</th>\n",
       "      <th>gender</th>\n",
       "      <th>capital-gain</th>\n",
       "      <th>capital-loss</th>\n",
       "      <th>hours-per-week</th>\n",
       "      <th>native-country</th>\n",
       "      <th>salary</th>\n",
       "    </tr>\n",
       "  </thead>\n",
       "  <tbody>\n",
       "    <tr>\n",
       "      <th>count</th>\n",
       "      <td>45222.000000</td>\n",
       "      <td>45222.000000</td>\n",
       "      <td>4.522200e+04</td>\n",
       "      <td>45222.000000</td>\n",
       "      <td>45222.000000</td>\n",
       "      <td>45222.000000</td>\n",
       "      <td>45222.000000</td>\n",
       "      <td>45222.000000</td>\n",
       "      <td>45222.000000</td>\n",
       "      <td>45222.000000</td>\n",
       "      <td>45222.000000</td>\n",
       "      <td>45222.000000</td>\n",
       "      <td>45222.000000</td>\n",
       "      <td>45222.000000</td>\n",
       "    </tr>\n",
       "    <tr>\n",
       "      <th>mean</th>\n",
       "      <td>38.547941</td>\n",
       "      <td>2.204502</td>\n",
       "      <td>1.897347e+05</td>\n",
       "      <td>10.118460</td>\n",
       "      <td>2.585180</td>\n",
       "      <td>5.969572</td>\n",
       "      <td>1.412697</td>\n",
       "      <td>3.680288</td>\n",
       "      <td>0.675048</td>\n",
       "      <td>1101.430344</td>\n",
       "      <td>88.595418</td>\n",
       "      <td>40.938017</td>\n",
       "      <td>36.401022</td>\n",
       "      <td>0.247844</td>\n",
       "    </tr>\n",
       "    <tr>\n",
       "      <th>std</th>\n",
       "      <td>13.217870</td>\n",
       "      <td>0.958122</td>\n",
       "      <td>1.056392e+05</td>\n",
       "      <td>2.552881</td>\n",
       "      <td>1.500458</td>\n",
       "      <td>4.026400</td>\n",
       "      <td>1.597227</td>\n",
       "      <td>0.832353</td>\n",
       "      <td>0.468362</td>\n",
       "      <td>7506.430084</td>\n",
       "      <td>404.956092</td>\n",
       "      <td>12.007508</td>\n",
       "      <td>6.079856</td>\n",
       "      <td>0.431766</td>\n",
       "    </tr>\n",
       "    <tr>\n",
       "      <th>min</th>\n",
       "      <td>17.000000</td>\n",
       "      <td>0.000000</td>\n",
       "      <td>1.349200e+04</td>\n",
       "      <td>1.000000</td>\n",
       "      <td>0.000000</td>\n",
       "      <td>0.000000</td>\n",
       "      <td>0.000000</td>\n",
       "      <td>0.000000</td>\n",
       "      <td>0.000000</td>\n",
       "      <td>0.000000</td>\n",
       "      <td>0.000000</td>\n",
       "      <td>1.000000</td>\n",
       "      <td>0.000000</td>\n",
       "      <td>0.000000</td>\n",
       "    </tr>\n",
       "    <tr>\n",
       "      <th>25%</th>\n",
       "      <td>28.000000</td>\n",
       "      <td>2.000000</td>\n",
       "      <td>1.173882e+05</td>\n",
       "      <td>9.000000</td>\n",
       "      <td>2.000000</td>\n",
       "      <td>2.000000</td>\n",
       "      <td>0.000000</td>\n",
       "      <td>4.000000</td>\n",
       "      <td>0.000000</td>\n",
       "      <td>0.000000</td>\n",
       "      <td>0.000000</td>\n",
       "      <td>40.000000</td>\n",
       "      <td>38.000000</td>\n",
       "      <td>0.000000</td>\n",
       "    </tr>\n",
       "    <tr>\n",
       "      <th>50%</th>\n",
       "      <td>37.000000</td>\n",
       "      <td>2.000000</td>\n",
       "      <td>1.783160e+05</td>\n",
       "      <td>10.000000</td>\n",
       "      <td>2.000000</td>\n",
       "      <td>6.000000</td>\n",
       "      <td>1.000000</td>\n",
       "      <td>4.000000</td>\n",
       "      <td>1.000000</td>\n",
       "      <td>0.000000</td>\n",
       "      <td>0.000000</td>\n",
       "      <td>40.000000</td>\n",
       "      <td>38.000000</td>\n",
       "      <td>0.000000</td>\n",
       "    </tr>\n",
       "    <tr>\n",
       "      <th>75%</th>\n",
       "      <td>47.000000</td>\n",
       "      <td>2.000000</td>\n",
       "      <td>2.379260e+05</td>\n",
       "      <td>13.000000</td>\n",
       "      <td>4.000000</td>\n",
       "      <td>9.000000</td>\n",
       "      <td>3.000000</td>\n",
       "      <td>4.000000</td>\n",
       "      <td>1.000000</td>\n",
       "      <td>0.000000</td>\n",
       "      <td>0.000000</td>\n",
       "      <td>45.000000</td>\n",
       "      <td>38.000000</td>\n",
       "      <td>0.000000</td>\n",
       "    </tr>\n",
       "    <tr>\n",
       "      <th>max</th>\n",
       "      <td>90.000000</td>\n",
       "      <td>6.000000</td>\n",
       "      <td>1.490400e+06</td>\n",
       "      <td>16.000000</td>\n",
       "      <td>6.000000</td>\n",
       "      <td>13.000000</td>\n",
       "      <td>5.000000</td>\n",
       "      <td>4.000000</td>\n",
       "      <td>1.000000</td>\n",
       "      <td>99999.000000</td>\n",
       "      <td>4356.000000</td>\n",
       "      <td>99.000000</td>\n",
       "      <td>40.000000</td>\n",
       "      <td>1.000000</td>\n",
       "    </tr>\n",
       "  </tbody>\n",
       "</table>\n",
       "</div>"
      ],
      "text/plain": [
       "                age     workclass        fnlwgt  education-num  \\\n",
       "count  45222.000000  45222.000000  4.522200e+04   45222.000000   \n",
       "mean      38.547941      2.204502  1.897347e+05      10.118460   \n",
       "std       13.217870      0.958122  1.056392e+05       2.552881   \n",
       "min       17.000000      0.000000  1.349200e+04       1.000000   \n",
       "25%       28.000000      2.000000  1.173882e+05       9.000000   \n",
       "50%       37.000000      2.000000  1.783160e+05      10.000000   \n",
       "75%       47.000000      2.000000  2.379260e+05      13.000000   \n",
       "max       90.000000      6.000000  1.490400e+06      16.000000   \n",
       "\n",
       "       marital-status    occupation  relationship          race        gender  \\\n",
       "count    45222.000000  45222.000000  45222.000000  45222.000000  45222.000000   \n",
       "mean         2.585180      5.969572      1.412697      3.680288      0.675048   \n",
       "std          1.500458      4.026400      1.597227      0.832353      0.468362   \n",
       "min          0.000000      0.000000      0.000000      0.000000      0.000000   \n",
       "25%          2.000000      2.000000      0.000000      4.000000      0.000000   \n",
       "50%          2.000000      6.000000      1.000000      4.000000      1.000000   \n",
       "75%          4.000000      9.000000      3.000000      4.000000      1.000000   \n",
       "max          6.000000     13.000000      5.000000      4.000000      1.000000   \n",
       "\n",
       "       capital-gain  capital-loss  hours-per-week  native-country  \\\n",
       "count  45222.000000  45222.000000    45222.000000    45222.000000   \n",
       "mean    1101.430344     88.595418       40.938017       36.401022   \n",
       "std     7506.430084    404.956092       12.007508        6.079856   \n",
       "min        0.000000      0.000000        1.000000        0.000000   \n",
       "25%        0.000000      0.000000       40.000000       38.000000   \n",
       "50%        0.000000      0.000000       40.000000       38.000000   \n",
       "75%        0.000000      0.000000       45.000000       38.000000   \n",
       "max    99999.000000   4356.000000       99.000000       40.000000   \n",
       "\n",
       "             salary  \n",
       "count  45222.000000  \n",
       "mean       0.247844  \n",
       "std        0.431766  \n",
       "min        0.000000  \n",
       "25%        0.000000  \n",
       "50%        0.000000  \n",
       "75%        0.000000  \n",
       "max        1.000000  "
      ]
     },
     "execution_count": 9,
     "metadata": {},
     "output_type": "execute_result"
    }
   ],
   "source": [
    "df.describe()"
   ]
  },
  {
   "cell_type": "markdown",
   "id": "566118a9",
   "metadata": {
    "papermill": {
     "duration": 0.005618,
     "end_time": "2025-07-20T15:57:38.673630",
     "exception": false,
     "start_time": "2025-07-20T15:57:38.668012",
     "status": "completed"
    },
    "tags": []
   },
   "source": [
    "# 📊 Visualization "
   ]
  },
  {
   "cell_type": "code",
   "execution_count": 10,
   "id": "d1e63d2d",
   "metadata": {
    "execution": {
     "iopub.execute_input": "2025-07-20T15:57:38.686214Z",
     "iopub.status.busy": "2025-07-20T15:57:38.685865Z",
     "iopub.status.idle": "2025-07-20T15:57:39.126801Z",
     "shell.execute_reply": "2025-07-20T15:57:39.125961Z"
    },
    "papermill": {
     "duration": 0.449044,
     "end_time": "2025-07-20T15:57:39.128384",
     "exception": false,
     "start_time": "2025-07-20T15:57:38.679340",
     "status": "completed"
    },
    "tags": []
   },
   "outputs": [
    {
     "data": {
      "text/plain": [
       "Text(0, 0.5, 'Count')"
      ]
     },
     "execution_count": 10,
     "metadata": {},
     "output_type": "execute_result"
    },
    {
     "data": {
      "image/png": "[encoded data removed]",
      "text/plain": [
       "<Figure size 800x600 with 1 Axes>"
      ]
     },
     "metadata": {},
     "output_type": "display_data"
    }
   ],
   "source": [
    "plt.figure(figsize=(8, 6))\n",
    "sns.countplot(data = df, x = 'education-num', hue = 'salary', palette = 'husl')\n",
    "plt.title(\"Distribution of Education Level by Salary Category (>=50k - 1, <50k - 0)\")\n",
    "plt.xlabel('Education level')\n",
    "plt.ylabel('Count')"
   ]
  },
  {
   "cell_type": "code",
   "execution_count": 11,
   "id": "94eed214",
   "metadata": {
    "execution": {
     "iopub.execute_input": "2025-07-20T15:57:39.143825Z",
     "iopub.status.busy": "2025-07-20T15:57:39.143128Z",
     "iopub.status.idle": "2025-07-20T15:57:39.836286Z",
     "shell.execute_reply": "2025-07-20T15:57:39.835409Z"
    },
    "papermill": {
     "duration": 0.701908,
     "end_time": "2025-07-20T15:57:39.837837",
     "exception": false,
     "start_time": "2025-07-20T15:57:39.135929",
     "status": "completed"
    },
    "tags": []
   },
   "outputs": [
    {
     "data": {
      "text/plain": [
       "([<matplotlib.axis.XTick at 0x2194cb3a6c0>,\n",
       "  <matplotlib.axis.XTick at 0x2194cb393a0>,\n",
       "  <matplotlib.axis.XTick at 0x2194cb06ea0>,\n",
       "  <matplotlib.axis.XTick at 0x2194be0b740>,\n",
       "  <matplotlib.axis.XTick at 0x2194d10b7a0>,\n",
       "  <matplotlib.axis.XTick at 0x2194d10bd70>,\n",
       "  <matplotlib.axis.XTick at 0x2194d14caa0>,\n",
       "  <matplotlib.axis.XTick at 0x2194d14d430>,\n",
       "  <matplotlib.axis.XTick at 0x2194d10b200>,\n",
       "  <matplotlib.axis.XTick at 0x2194d14db20>,\n",
       "  <matplotlib.axis.XTick at 0x2194d14e420>,\n",
       "  <matplotlib.axis.XTick at 0x2194d14ede0>,\n",
       "  <matplotlib.axis.XTick at 0x2194d14f6b0>,\n",
       "  <matplotlib.axis.XTick at 0x2194d14e900>,\n",
       "  <matplotlib.axis.XTick at 0x2194d14fda0>,\n",
       "  <matplotlib.axis.XTick at 0x2194d1687d0>,\n",
       "  <matplotlib.axis.XTick at 0x2194d169160>,\n",
       "  <matplotlib.axis.XTick at 0x2194d169a60>,\n",
       "  <matplotlib.axis.XTick at 0x2194d14c680>,\n",
       "  <matplotlib.axis.XTick at 0x2194d16a1b0>,\n",
       "  <matplotlib.axis.XTick at 0x2194d16ab40>,\n",
       "  <matplotlib.axis.XTick at 0x2194d16b470>,\n",
       "  <matplotlib.axis.XTick at 0x2194d16bda0>,\n",
       "  <matplotlib.axis.XTick at 0x2194cb1db20>,\n",
       "  <matplotlib.axis.XTick at 0x2194d16a3c0>,\n",
       "  <matplotlib.axis.XTick at 0x2194d180e00>,\n",
       "  <matplotlib.axis.XTick at 0x2194d181730>,\n",
       "  <matplotlib.axis.XTick at 0x2194d182060>,\n",
       "  <matplotlib.axis.XTick at 0x2194d182990>,\n",
       "  <matplotlib.axis.XTick at 0x2194d181b20>,\n",
       "  <matplotlib.axis.XTick at 0x2194d182ff0>],\n",
       " [Text(0, 0, '17'),\n",
       "  Text(3, 0, '20'),\n",
       "  Text(6, 0, '23'),\n",
       "  Text(9, 0, '26'),\n",
       "  Text(12, 0, '29'),\n",
       "  Text(15, 0, '32'),\n",
       "  Text(18, 0, '35'),\n",
       "  Text(21, 0, '38'),\n",
       "  Text(24, 0, '41'),\n",
       "  Text(27, 0, '44'),\n",
       "  Text(30, 0, '47'),\n",
       "  Text(33, 0, '50'),\n",
       "  Text(36, 0, '53'),\n",
       "  Text(39, 0, '56'),\n",
       "  Text(42, 0, '59'),\n",
       "  Text(45, 0, '62'),\n",
       "  Text(48, 0, '65'),\n",
       "  Text(51, 0, '68'),\n",
       "  Text(54, 0, '71'),\n",
       "  Text(57, 0, '74'),\n",
       "  Text(60, 0, '77'),\n",
       "  Text(63, 0, '80'),\n",
       "  Text(66, 0, '83'),\n",
       "  Text(69, 0, '86'),\n",
       "  Text(72, 0, '89'),\n",
       "  Text(75, 0, ''),\n",
       "  Text(78, 0, ''),\n",
       "  Text(81, 0, ''),\n",
       "  Text(84, 0, ''),\n",
       "  Text(87, 0, ''),\n",
       "  Text(90, 0, '')])"
      ]
     },
     "execution_count": 11,
     "metadata": {},
     "output_type": "execute_result"
    },
    {
     "data": {
      "image/png": "[encoded data removed]",
      "text/plain": [
       "<Figure size 1100x600 with 1 Axes>"
      ]
     },
     "metadata": {},
     "output_type": "display_data"
    }
   ],
   "source": [
    "plt.figure(figsize=(11, 6))\n",
    "sns.countplot(data = df, x = 'age', hue = 'salary', palette = 'Paired')\n",
    "plt.title(\"Distribution of Age by Salary Category (>=50k - 1, <50k - 0)\")\n",
    "plt.xlabel('age')\n",
    "plt.ylabel('Count')\n",
    "plt.xticks(ticks=range(0, df['age'].max()+1, 3))"
   ]
  },
  {
   "cell_type": "code",
   "execution_count": 12,
   "id": "1843dcce",
   "metadata": {
    "execution": {
     "iopub.execute_input": "2025-07-20T15:57:39.854754Z",
     "iopub.status.busy": "2025-07-20T15:57:39.854454Z",
     "iopub.status.idle": "2025-07-20T15:57:40.484025Z",
     "shell.execute_reply": "2025-07-20T15:57:40.482897Z"
    },
    "papermill": {
     "duration": 0.63969,
     "end_time": "2025-07-20T15:57:40.485623",
     "exception": false,
     "start_time": "2025-07-20T15:57:39.845933",
     "status": "completed"
    },
    "tags": []
   },
   "outputs": [
    {
     "data": {
      "text/plain": [
       "Text(0.5, 0.98, 'Race and Salary (>=50k - 1, <50k - 0)  Distribution by Gender (Male - 1, Female - 0)')"
      ]
     },
     "execution_count": 12,
     "metadata": {},
     "output_type": "execute_result"
    },
    {
     "data": {
      "image/png": "[encoded data removed]",
      "text/plain": [
       "<Figure size 1058.88x500 with 2 Axes>"
      ]
     },
     "metadata": {},
     "output_type": "display_data"
    }
   ],
   "source": [
    "sns.catplot(\n",
    "    data=df, kind='count',\n",
    "    x='race', hue='salary', col='gender',\n",
    "    palette='rocket', height=5, aspect=1\n",
    ")\n",
    "\n",
    "plt.subplots_adjust(top=0.85)\n",
    "plt.suptitle(\"Race and Salary (>=50k - 1, <50k - 0)  Distribution by Gender (Male - 1, Female - 0)\")"
   ]
  },
  {
   "cell_type": "code",
   "execution_count": 13,
   "id": "fe17fb58",
   "metadata": {
    "execution": {
     "iopub.execute_input": "2025-07-20T15:57:40.505005Z",
     "iopub.status.busy": "2025-07-20T15:57:40.504715Z",
     "iopub.status.idle": "2025-07-20T15:57:40.884627Z",
     "shell.execute_reply": "2025-07-20T15:57:40.883769Z"
    },
    "papermill": {
     "duration": 0.391234,
     "end_time": "2025-07-20T15:57:40.885975",
     "exception": false,
     "start_time": "2025-07-20T15:57:40.494741",
     "status": "completed"
    },
    "tags": []
   },
   "outputs": [
    {
     "data": {
      "text/plain": [
       "Text(0.5, 1.0, 'Correlation Heatmap')"
      ]
     },
     "execution_count": 13,
     "metadata": {},
     "output_type": "execute_result"
    },
    {
     "data": {
      "image/png": "[encoded data removed]",
      "text/plain": [
       "<Figure size 1000x600 with 2 Axes>"
      ]
     },
     "metadata": {},
     "output_type": "display_data"
    }
   ],
   "source": [
    "cols = ['age', 'salary', 'capital-gain', 'capital-loss', 'hours-per-week', 'education-num']\n",
    "corr = df[cols].corr()\n",
    "\n",
    "plt.figure(figsize=(10, 6))\n",
    "sns.heatmap(corr, annot=True, cmap='coolwarm', fmt=\".2f\")\n",
    "plt.title(\"Correlation Heatmap\")"
   ]
  },
  {
   "cell_type": "code",
   "execution_count": 14,
   "id": "99ba54e1",
   "metadata": {
    "execution": {
     "iopub.execute_input": "2025-07-20T15:57:40.907374Z",
     "iopub.status.busy": "2025-07-20T15:57:40.906789Z",
     "iopub.status.idle": "2025-07-20T15:57:41.975073Z",
     "shell.execute_reply": "2025-07-20T15:57:41.974200Z"
    },
    "papermill": {
     "duration": 1.080444,
     "end_time": "2025-07-20T15:57:41.976582",
     "exception": false,
     "start_time": "2025-07-20T15:57:40.896138",
     "status": "completed"
    },
    "tags": []
   },
   "outputs": [
    {
     "data": {
      "text/plain": [
       "Text(0, 0.5, 'Count (log)')"
      ]
     },
     "execution_count": 14,
     "metadata": {},
     "output_type": "execute_result"
    },
    {
     "data": {
      "image/png": "[encoded data removed]",
      "text/plain": [
       "<Figure size 1100x600 with 1 Axes>"
      ]
     },
     "metadata": {},
     "output_type": "display_data"
    }
   ],
   "source": [
    "plt.figure(figsize=(11, 6))\n",
    "sns.countplot(data = df, x = 'native-country', hue = 'salary', palette = 'husl')\n",
    "plt.yscale('log')\n",
    "plt.title(\"Distribution of Native Country by Salary Category (>=50k - 1, <50k - 0)\")\n",
    "plt.xlabel('Native counrty')\n",
    "plt.ylabel('Count (log)')"
   ]
  },
  {
   "cell_type": "code",
   "execution_count": 15,
   "id": "5d3ca4b8",
   "metadata": {
    "execution": {
     "iopub.execute_input": "2025-07-20T15:57:42.000309Z",
     "iopub.status.busy": "2025-07-20T15:57:41.999601Z",
     "iopub.status.idle": "2025-07-20T15:57:42.652538Z",
     "shell.execute_reply": "2025-07-20T15:57:42.651604Z"
    },
    "papermill": {
     "duration": 0.666342,
     "end_time": "2025-07-20T15:57:42.654169",
     "exception": false,
     "start_time": "2025-07-20T15:57:41.987827",
     "status": "completed"
    },
    "tags": []
   },
   "outputs": [
    {
     "data": {
      "text/plain": [
       "Text(0.5, 0.98, 'R and Salary (>=50k - 1, <50k - 0)  Distribution by Gender (Male - 1, Female - 0)')"
      ]
     },
     "execution_count": 15,
     "metadata": {},
     "output_type": "execute_result"
    },
    {
     "data": {
      "text/plain": [
       "<Figure size 800x600 with 0 Axes>"
      ]
     },
     "metadata": {},
     "output_type": "display_data"
    },
    {
     "data": {
      "image/png": "[encoded data removed]",
      "text/plain": [
       "<Figure size 1058.88x500 with 2 Axes>"
      ]
     },
     "metadata": {},
     "output_type": "display_data"
    }
   ],
   "source": [
    "plt.figure(figsize = (8,6))\n",
    "sns.catplot(data = df, kind = 'count',\n",
    "            x = 'marital-status', hue = 'salary',\n",
    "            col = 'gender', palette='Paired', height=5, aspect=1\n",
    "           )\n",
    "plt.subplots_adjust(top=0.85)\n",
    "plt.suptitle(\"R and Salary (>=50k - 1, <50k - 0)  Distribution by Gender (Male - 1, Female - 0)\")"
   ]
  },
  {
   "cell_type": "markdown",
   "id": "1724d3ca",
   "metadata": {
    "papermill": {
     "duration": 0.01201,
     "end_time": "2025-07-20T15:57:42.678754",
     "exception": false,
     "start_time": "2025-07-20T15:57:42.666744",
     "status": "completed"
    },
    "tags": []
   },
   "source": [
    "# 💪 Model training \n",
    "To predict whether an individual earns more than $50,000 per year, we will apply several classification algorithms and compare their performance. We begin with Logistic Regression, a simple and interpretable baseline model that is well-suited for binary classification problems. Next, we introduce a Decision Tree, which captures non-linear relationships and allows for easy interpretation of feature importance. To enhance predictive power and reduce overfitting, we implement a Random Forest, an ensemble method that combines multiple decision trees to improve accuracy and robustness. Finally, we utilize XGBoost, a powerful gradient boosting algorithm known for its high performance and efficiency in structured data problems. By evaluating each model, we aim to identify the most effective approach for income prediction."
   ]
  },
  {
   "cell_type": "code",
   "execution_count": 16,
   "id": "a46fb981",
   "metadata": {
    "execution": {
     "iopub.execute_input": "2025-07-20T15:57:42.704226Z",
     "iopub.status.busy": "2025-07-20T15:57:42.703578Z",
     "iopub.status.idle": "2025-07-20T15:57:42.718560Z",
     "shell.execute_reply": "2025-07-20T15:57:42.717715Z"
    },
    "papermill": {
     "duration": 0.029388,
     "end_time": "2025-07-20T15:57:42.720068",
     "exception": false,
     "start_time": "2025-07-20T15:57:42.690680",
     "status": "completed"
    },
    "tags": []
   },
   "outputs": [],
   "source": [
    "X = df.drop(['salary','education', 'fnlwgt'], axis=1)\n",
    "y = df['salary']\n",
    "\n",
    "X_train, X_test, y_train, y_test = train_test_split(X, y, test_size = 0.05, random_state = 42)"
   ]
  },
  {
   "cell_type": "markdown",
   "id": "1b6d4d11",
   "metadata": {
    "papermill": {
     "duration": 0.011862,
     "end_time": "2025-07-20T15:57:42.744879",
     "exception": false,
     "start_time": "2025-07-20T15:57:42.733017",
     "status": "completed"
    },
    "tags": []
   },
   "source": [
    "## 🧐 Logistic Regression"
   ]
  },
  {
   "cell_type": "code",
   "execution_count": 17,
   "id": "24f71b62",
   "metadata": {
    "execution": {
     "iopub.execute_input": "2025-07-20T15:57:42.770970Z",
     "iopub.status.busy": "2025-07-20T15:57:42.770230Z",
     "iopub.status.idle": "2025-07-20T15:57:55.364568Z",
     "shell.execute_reply": "2025-07-20T15:57:55.362970Z"
    },
    "papermill": {
     "duration": 12.609482,
     "end_time": "2025-07-20T15:57:55.366549",
     "exception": false,
     "start_time": "2025-07-20T15:57:42.757067",
     "status": "completed"
    },
    "tags": []
   },
   "outputs": [
    {
     "name": "stdout",
     "output_type": "stream",
     "text": [
      "Accuracy: 0.8240\n",
      "              precision    recall  f1-score   support\n",
      "\n",
      "           0       0.84      0.95      0.89      1692\n",
      "           1       0.75      0.46      0.57       570\n",
      "\n",
      "    accuracy                           0.82      2262\n",
      "   macro avg       0.79      0.70      0.73      2262\n",
      "weighted avg       0.82      0.82      0.81      2262\n",
      "\n"
     ]
    }
   ],
   "source": [
    "model = LogisticRegression(max_iter = 10000)\n",
    "model.fit(X_train, y_train)\n",
    "\n",
    "y_pred = model.predict(X_test)\n",
    "\n",
    "accuracy = accuracy_score(y_test, y_pred)\n",
    "print(f\"Accuracy: {accuracy:.4f}\")\n",
    "print(classification_report(y_test, y_pred))"
   ]
  },
  {
   "cell_type": "markdown",
   "id": "467a906d",
   "metadata": {
    "papermill": {
     "duration": 0.019753,
     "end_time": "2025-07-20T15:57:55.406387",
     "exception": false,
     "start_time": "2025-07-20T15:57:55.386634",
     "status": "completed"
    },
    "tags": []
   },
   "source": [
    "## 🧐 Decision tree"
   ]
  },
  {
   "cell_type": "code",
   "execution_count": 18,
   "id": "078da6fb",
   "metadata": {
    "execution": {
     "iopub.execute_input": "2025-07-20T15:57:55.448158Z",
     "iopub.status.busy": "2025-07-20T15:57:55.447807Z",
     "iopub.status.idle": "2025-07-20T15:57:55.613457Z",
     "shell.execute_reply": "2025-07-20T15:57:55.612435Z"
    },
    "papermill": {
     "duration": 0.188585,
     "end_time": "2025-07-20T15:57:55.614941",
     "exception": false,
     "start_time": "2025-07-20T15:57:55.426356",
     "status": "completed"
    },
    "tags": []
   },
   "outputs": [
    {
     "name": "stdout",
     "output_type": "stream",
     "text": [
      "Accuracy: 0.8103\n",
      "              precision    recall  f1-score   support\n",
      "\n",
      "           0       0.86      0.89      0.88      1692\n",
      "           1       0.64      0.58      0.60       570\n",
      "\n",
      "    accuracy                           0.81      2262\n",
      "   macro avg       0.75      0.73      0.74      2262\n",
      "weighted avg       0.80      0.81      0.81      2262\n",
      "\n"
     ]
    }
   ],
   "source": [
    "tree_model = DecisionTreeClassifier(random_state = 42)\n",
    "tree_model.fit(X_train,y_train)\n",
    "\n",
    "y_pred_tree = tree_model.predict(X_test)\n",
    "\n",
    "accuracy_tree = accuracy_score(y_test, y_pred_tree)\n",
    "\n",
    "print(f\"Accuracy: {accuracy_tree:.4f}\")\n",
    "print(classification_report(y_test, y_pred_tree))"
   ]
  },
  {
   "cell_type": "markdown",
   "id": "761e2c3f",
   "metadata": {
    "papermill": {
     "duration": 0.011743,
     "end_time": "2025-07-20T15:57:55.639665",
     "exception": false,
     "start_time": "2025-07-20T15:57:55.627922",
     "status": "completed"
    },
    "tags": []
   },
   "source": [
    "## 🧐 Random Forest"
   ]
  },
  {
   "cell_type": "code",
   "execution_count": 19,
   "id": "0ec9ec46",
   "metadata": {
    "execution": {
     "iopub.execute_input": "2025-07-20T15:57:55.665245Z",
     "iopub.status.busy": "2025-07-20T15:57:55.664414Z",
     "iopub.status.idle": "2025-07-20T15:57:59.573286Z",
     "shell.execute_reply": "2025-07-20T15:57:59.572247Z"
    },
    "papermill": {
     "duration": 3.923103,
     "end_time": "2025-07-20T15:57:59.574717",
     "exception": false,
     "start_time": "2025-07-20T15:57:55.651614",
     "status": "completed"
    },
    "tags": []
   },
   "outputs": [
    {
     "name": "stdout",
     "output_type": "stream",
     "text": [
      "Accuracys: 0.8435\n",
      "              precision    recall  f1-score   support\n",
      "\n",
      "           0       0.87      0.92      0.90      1692\n",
      "           1       0.73      0.61      0.66       570\n",
      "\n",
      "    accuracy                           0.84      2262\n",
      "   macro avg       0.80      0.76      0.78      2262\n",
      "weighted avg       0.84      0.84      0.84      2262\n",
      "\n"
     ]
    }
   ],
   "source": [
    "rf_model = RandomForestClassifier(n_estimators = 100, random_state = 42)\n",
    "rf_model.fit(X_train, y_train)\n",
    "\n",
    "y_pred_rf = rf_model.predict(X_test)\n",
    "accuracy_rf = accuracy_score(y_test, y_pred_rf)\n",
    "print(f\"Accuracys: {accuracy_rf:.4f}\")\n",
    "print(classification_report(y_test, y_pred_rf))"
   ]
  },
  {
   "cell_type": "markdown",
   "id": "604756ed",
   "metadata": {
    "papermill": {
     "duration": 0.011935,
     "end_time": "2025-07-20T15:57:59.599685",
     "exception": false,
     "start_time": "2025-07-20T15:57:59.587750",
     "status": "completed"
    },
    "tags": []
   },
   "source": [
    "## 🧐 XGBOOST"
   ]
  },
  {
   "cell_type": "code",
   "execution_count": 20,
   "id": "3560a38b",
   "metadata": {
    "execution": {
     "iopub.execute_input": "2025-07-20T15:57:59.625516Z",
     "iopub.status.busy": "2025-07-20T15:57:59.624859Z",
     "iopub.status.idle": "2025-07-20T15:57:59.932775Z",
     "shell.execute_reply": "2025-07-20T15:57:59.931475Z"
    },
    "papermill": {
     "duration": 0.322107,
     "end_time": "2025-07-20T15:57:59.933985",
     "exception": false,
     "start_time": "2025-07-20T15:57:59.611878",
     "status": "completed"
    },
    "tags": []
   },
   "outputs": [
    {
     "name": "stdout",
     "output_type": "stream",
     "text": [
      "Accuracy: 0.874\n",
      "\n",
      "Classification Report:\n",
      "               precision    recall  f1-score   support\n",
      "\n",
      "           0       0.89      0.95      0.92      1692\n",
      "           1       0.82      0.64      0.72       570\n",
      "\n",
      "    accuracy                           0.87      2262\n",
      "   macro avg       0.85      0.80      0.82      2262\n",
      "weighted avg       0.87      0.87      0.87      2262\n",
      "\n"
     ]
    }
   ],
   "source": [
    "model = xgb.XGBClassifier(eval_metric='logloss', random_state=42)\n",
    "\n",
    "model.fit(X_train, y_train)\n",
    "\n",
    "y_pred = model.predict(X_test)\n",
    "\n",
    "accuracy = accuracy_score(y_test, y_pred)\n",
    "print(\"Accuracy:\", round(accuracy, 3))\n",
    "print(\"\\nClassification Report:\\n\", classification_report(y_test, y_pred))"
   ]
  },
  {
   "cell_type": "markdown",
   "id": "8e41cb53",
   "metadata": {
    "papermill": {
     "duration": 0.012051,
     "end_time": "2025-07-20T15:57:59.959010",
     "exception": false,
     "start_time": "2025-07-20T15:57:59.946959",
     "status": "completed"
    },
    "tags": []
   },
   "source": [
    "## 📈 Conclusion\n",
    "\n",
    "In this project, we explored multiple classification models to predict whether an individual's income exceeds $50,000 annually. After preprocessing the data and transforming categorical variables into numeric format, we trained and evaluated four different algorithms: Logistic Regression, Decision Tree, Random Forest, and XGBoost.\n",
    "\n",
    "Among all models, XGBoost delivered the best performance with an accuracy of 0.875, along with strong precision and recall scores, particularly for the majority class. Its macro average F1-score of 0.82 and weighted average of 0.87 reflect its overall robustness in handling the data's imbalance and complexity.\n",
    "\n",
    "The Random Forest model followed with an accuracy of 0.8439, showing good predictive power, especially for the majority class, though with slightly weaker recall on the minority class. The Decision Tree and Logistic Regression models achieved lower accuracies of 0.8103 and 0.8240 respectively, performing similarly in terms of precision and recall for the minority class.\n",
    "\n",
    "These results demonstrate that ensemble methods—particularly XGBoost—are highly effective for income classification tasks, offering a balance between accuracy and the ability to capture complex patterns in the data."
   ]
  }
 ],
 "metadata": {
  "kaggle": {
   "accelerator": "none",
   "dataSources": [
    {
     "datasetId": 523380,
     "sourceId": 960809,
     "sourceType": "datasetVersion"
    }
   ],
   "dockerImageVersionId": 31089,
   "isGpuEnabled": false,
   "isInternetEnabled": true,
   "language": "python",
   "sourceType": "notebook"
  },
  "kernelspec": {
   "display_name": "Python 3",
   "language": "python",
   "name": "python3"
  },
  "language_info": {
   "codemirror_mode": {
    "name": "ipython",
    "version": 3
   },
   "file_extension": ".py",
   "mimetype": "text/x-python",
   "name": "python",
   "nbconvert_exporter": "python",
   "pygments_lexer": "ipython3",
   "version": "3.12.10"
  },
  "papermill": {
   "default_parameters": {},
   "duration": 49.144644,
   "end_time": "2025-07-20T15:58:02.735777",
   "environment_variables": {},
   "exception": null,
   "input_path": "__notebook__.ipynb",
   "output_path": "__notebook__.ipynb",
   "parameters": {},
   "start_time": "2025-07-20T15:57:13.591133",
   "version": "2.6.0"
  }
 },
 "nbformat": 4,
 "nbformat_minor": 5
}
